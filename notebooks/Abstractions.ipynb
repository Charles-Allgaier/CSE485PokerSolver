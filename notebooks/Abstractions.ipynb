{
 "cells": [
  {
   "cell_type": "markdown",
   "metadata": {},
   "source": [
    "### Imports"
   ]
  },
  {
   "cell_type": "code",
   "execution_count": 152,
   "metadata": {},
   "outputs": [],
   "source": [
    "import numpy as np\n",
    "import pandas as pd\n",
    "import matplotlib.pyplot as plt\n",
    "import seaborn as sns\n",
    "import eval7\n",
    "from eval7 import Card, HandRange"
   ]
  },
  {
   "cell_type": "markdown",
   "metadata": {},
   "source": [
    "# State & Action Abstraction\n",
    "\n",
    "Because No-Limit texas holdem has $10^{71}$ decision nodes, we have to create an abstraction of the game to make it computatable.  To do this we have two options...\n",
    "\n",
    " - **State Abstraction** - Group similar hands together and compute strategies for the groups\n",
    " - **Action Abstraction** - Restrict bet sizes to common values e.g. (50% of pot, 100% of pot)"
   ]
  },
  {
   "cell_type": "markdown",
   "metadata": {},
   "source": [
    "## State Abstraction\n",
    "\n",
    "Many methods have been used to group strategically similar hands together.  The simplest is *Expected-Hand Strength* (EHS).  EHS is simply the odds of that hand to win versus a random hand.  To group hands together by EHS, we first calculate the EHS of every hand.  Then we use a clustering algorithm like K-means to group them together."
   ]
  },
  {
   "cell_type": "code",
   "execution_count": 114,
   "metadata": {},
   "outputs": [
    {
     "name": "stdout",
     "output_type": "stream",
     "text": [
      "EHS(AsAh) =  0.8491500020027161\n"
     ]
    }
   ],
   "source": [
    "# get the EHS of AsAh\n",
    "hand = [Card(\"As\"), Card(\"Ah\")]\n",
    "all_hands = HandRange(\"22+,A2+,K2+,Q2+,J2+,T2+,92+,82+,72+,62+,52+,42+,32+\")\n",
    "ehs = eval7.py_hand_vs_range_monte_carlo(hand, all_hands, [], 10000)\n",
    "\n",
    "print(\"EHS(AsAh) = \", ehs)"
   ]
  },
  {
   "cell_type": "markdown",
   "metadata": {},
   "source": [
    "#### Problems with EHS\n",
    "\n",
    "The main problem with EHS is that it would group hands that are strategically different together.  Here's an example"
   ]
  },
  {
   "cell_type": "code",
   "execution_count": 154,
   "metadata": {},
   "outputs": [
    {
     "name": "stdout",
     "output_type": "stream",
     "text": [
      "EHS(JsTs) =  0.5738000273704529\n",
      "EHS(4c4d) =  0.5745999813079834\n"
     ]
    }
   ],
   "source": [
    "hand1 = [Card(\"Js\"), Card(\"Ts\")]\n",
    "hand2 = [Card(\"4c\"), Card(\"4d\")]\n",
    "\n",
    "ehs1 = eval7.py_hand_vs_range_monte_carlo(hand1, all_hands, [], 10000)\n",
    "ehs2 = eval7.py_hand_vs_range_monte_carlo(hand2, all_hands, [], 10000)\n",
    "print(\"EHS(JsTs) = \", ehs1)\n",
    "print(\"EHS(4c4d) = \", ehs2)"
   ]
  },
  {
   "cell_type": "markdown",
   "metadata": {},
   "source": [
    "Notice how these hands have very similar EHS.  However, we would not want to group them together.  JTs suited is a *drawing-hand* and could likely improve to a straight or a flush or bust and be worth nothing.  44 is likely to remain a one-pair hand.  To highlight this difference, let's plot a histogram of EHS after showing all 5 cards for both hands.  "
   ]
  },
  {
   "cell_type": "code",
   "execution_count": 150,
   "metadata": {},
   "outputs": [
    {
     "data": {
      "image/png": "[encoded data removed]",
      "text/plain": [
       "<Figure size 1080x360 with 2 Axes>"
      ]
     },
     "metadata": {
      "needs_background": "light"
     },
     "output_type": "display_data"
    }
   ],
   "source": [
    "# First let's fix the flop\n",
    "# flop = [Card(\"9s\"), Card(\"5d\"), Card(\"Kc\")]\n",
    "\n",
    "def generate_histogram(hand, initial_board=[]):\n",
    "    # where to store our histogram\n",
    "    data = []\n",
    "    # lets take 1000 samples\n",
    "    for i in range(1000):\n",
    "        # deal random turn and river\n",
    "        deck = eval7.Deck()\n",
    "        deck.shuffle()\n",
    "        board = initial_board.copy()\n",
    "        while len(board) < 5:\n",
    "            new_card = deck.deal(1)\n",
    "            if not new_card in board and not new_card in hand:\n",
    "                board += new_card\n",
    "        \n",
    "        ehs = eval7.py_hand_vs_range_exact(hand, all_hands, board)\n",
    "    \n",
    "        data.append(ehs)\n",
    "        \n",
    "    return data\n",
    "\n",
    "\n",
    "plt.figure(figsize=(15, 5))\n",
    "\n",
    "plt.subplot(1, 2, 1)\n",
    "\n",
    "plt.title(\"JsTs\")\n",
    "hist = generate_histogram([Card(\"Js\"), Card(\"Ts\")])\n",
    "plt.hist(hist, bins=30)\n",
    "plt.xlabel(\"EHS\")\n",
    "plt.ylabel(\"Count\")\n",
    "\n",
    "plt.subplot(1, 2, 2)\n",
    "plt.title(\"4c4d\")\n",
    "hist = generate_histogram([Card(\"4c\"), Card(\"4d\")])\n",
    "plt.hist(hist, bins=30)\n",
    "plt.xlabel(\"EHS\")\n",
    "plt.ylabel(\"Count\")\n",
    "\n",
    "plt.show()"
   ]
  },
  {
   "cell_type": "markdown",
   "metadata": {},
   "source": [
    "As we can we JsTs is either a weak or a strong hand once we reach the river, but almost never an average one.  On the other hand, 4c4d is usually an average hand and sometimes very strong (when it makes three-of-a-kind).  Because of this, we should not group these hands together.  Although their EHS is very similar, the distribution of their ehs could not be more different."
   ]
  },
  {
   "cell_type": "markdown",
   "metadata": {},
   "source": [
    "#### Earth Mover's Distance\n",
    "\n",
    "Earth Mover's Distance (EMD) is a distance metric used to compare histograms.  Given two histograms EMD returns the minimum cost of turning histogram A into histogram B.  Although the above histograms have the same mean, their EMD is large because their distrubition of mass could not be more different.  This means that if we use EMD instead of EHS as our distance metric, JsTs will place into a different bucket than 4c4d which is what we want."
   ]
  },
  {
   "cell_type": "markdown",
   "metadata": {},
   "source": [
    "## Action Abstraction"
   ]
  }
 ],
 "metadata": {
  "kernelspec": {
   "display_name": "Python 3",
   "language": "python",
   "name": "python3"
  },
  "language_info": {
   "codemirror_mode": {
    "name": "ipython",
    "version": 3
   },
   "file_extension": ".py",
   "mimetype": "text/x-python",
   "name": "python",
   "nbconvert_exporter": "python",
   "pygments_lexer": "ipython3",
   "version": "3.8.5"
  }
 },
 "nbformat": 4,
 "nbformat_minor": 4
}
