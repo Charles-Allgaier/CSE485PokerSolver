{
 "cells": [
  {
   "cell_type": "markdown",
   "metadata": {},
   "source": [
    "# Introduction & Project Description\n",
    "\n",
    "Our goal for this project is to create an agent to play Heads-Up No Limit Texas Holdem' Poker (HUNL).\n",
    "\n",
    "Poker has some defining characteristics which make creating a bot uniquely challenging.  Similar to chess, poker is a **turn-based** strategy game.  This means that players take turns choosing from available actions until the game is over.  We can model turn-based strategy games using a **game tree**, where each decision node branches out depending on which action is taken.  \n",
    "    Unlike Chess, Poker is a game with **imperfect information**.  This is important because it completely changes how we go about developing a strategy."
   ]
  },
  {
   "cell_type": "code",
   "execution_count": null,
   "metadata": {},
   "outputs": [],
   "source": []
  }
 ],
 "metadata": {
  "kernelspec": {
   "display_name": "Python 3",
   "language": "python",
   "name": "python3"
  },
  "language_info": {
   "codemirror_mode": {
    "name": "ipython",
    "version": 3
   },
   "file_extension": ".py",
   "mimetype": "text/x-python",
   "name": "python",
   "nbconvert_exporter": "python",
   "pygments_lexer": "ipython3",
   "version": "3.8.5"
  }
 },
 "nbformat": 4,
 "nbformat_minor": 4
}
